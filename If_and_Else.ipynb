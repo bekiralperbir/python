{
 "cells": [
  {
   "cell_type": "code",
   "execution_count": 1,
   "id": "f6d2c522",
   "metadata": {},
   "outputs": [
    {
     "name": "stdout",
     "output_type": "stream",
     "text": [
      "2\n",
      "Merhaba\n"
     ]
    }
   ],
   "source": [
    "#Python'da bloklar :\n",
    "\n",
    "a = 2 #Blok 1 \n",
    "\n",
    "if a == 2:\n",
    "    print(a) #Blok 2 \n",
    "print('Merhaba') #Blok 1\n"
   ]
  },
  {
   "cell_type": "code",
   "execution_count": 2,
   "id": "7c673d18",
   "metadata": {},
   "outputs": [
    {
     "name": "stdout",
     "output_type": "stream",
     "text": [
      "merhaba\n"
     ]
    }
   ],
   "source": [
    "a = 2 #Blok 1 e ait kod \n",
    "\n",
    "if a == 3: \n",
    "    print(a) #Blok 2 ye ait kod\n",
    "print('merhaba') #Blok 1 e ait kod"
   ]
  },
  {
   "cell_type": "code",
   "execution_count": 3,
   "id": "67a596c6",
   "metadata": {},
   "outputs": [
    {
     "data": {
      "text/plain": [
       "'\\nIf Bloğu eğer koşul sağlanırsa çalışacak sağlanmazsa çalışmayacaktır\\n\\na = 2 \\nif a == 2 (koşul)\\n    Buradaki girdi çalışır.\\n\\n'"
      ]
     },
     "execution_count": 3,
     "metadata": {},
     "output_type": "execute_result"
    }
   ],
   "source": [
    "'''\n",
    "If Bloğu eğer koşul sağlanırsa çalışacak sağlanmazsa çalışmayacaktır\n",
    "\n",
    "a = 2 \n",
    "if a == 2 (koşul)\n",
    "    Buradaki girdi çalışır.\n",
    "\n",
    "'''  "
   ]
  },
  {
   "cell_type": "code",
   "execution_count": 4,
   "id": "4cff0912",
   "metadata": {},
   "outputs": [
    {
     "name": "stdout",
     "output_type": "stream",
     "text": [
      "Lütfen yaşınızı giriniz17\n",
      "Mekana giremezsiniz!\n"
     ]
    }
   ],
   "source": [
    "#mekana giriş uygulaması\n",
    "\n",
    "yaş = int(input('Lütfen yaşınızı giriniz:'))\n",
    "\n",
    "if yaş< 18:\n",
    "    print('Mekana giremezsiniz!')\n",
    "    "
   ]
  },
  {
   "cell_type": "code",
   "execution_count": 7,
   "id": "29ada1c4",
   "metadata": {},
   "outputs": [
    {
     "name": "stdout",
     "output_type": "stream",
     "text": [
      "Lütfen yaşınızı giriniz:18\n",
      "Mekana hoş geldiniz!\n"
     ]
    }
   ],
   "source": [
    "# else ekleme\n",
    "\n",
    "yaş = int(input('Lütfen yaşınızı giriniz:'))\n",
    "\n",
    "if yaş< 18:\n",
    "    print('Mekana giremezsiniz!')\n",
    "    \n",
    "else:\n",
    "    print('Mekana hoş geldiniz!')"
   ]
  },
  {
   "cell_type": "code",
   "execution_count": 9,
   "id": "137a5bd9",
   "metadata": {},
   "outputs": [
    {
     "name": "stdout",
     "output_type": "stream",
     "text": [
      "Lütfen bir sayı giriniz:+89\n",
      "sıfır ya da pozitif bir sayı\n"
     ]
    }
   ],
   "source": [
    "sayı = int(input('Lütfen bir sayı giriniz:'))\n",
    "\n",
    "if sayı<0:\n",
    "    print('sayınız negatif bir sayı')\n",
    "    \n",
    "else:\n",
    "    print('sıfır ya da pozitif bir sayı')"
   ]
  },
  {
   "cell_type": "code",
   "execution_count": null,
   "id": "632b60fe",
   "metadata": {},
   "outputs": [],
   "source": []
  }
 ],
 "metadata": {
  "kernelspec": {
   "display_name": "Python 3 (ipykernel)",
   "language": "python",
   "name": "python3"
  },
  "language_info": {
   "codemirror_mode": {
    "name": "ipython",
    "version": 3
   },
   "file_extension": ".py",
   "mimetype": "text/x-python",
   "name": "python",
   "nbconvert_exporter": "python",
   "pygments_lexer": "ipython3",
   "version": "3.9.7"
  }
 },
 "nbformat": 4,
 "nbformat_minor": 5
}
