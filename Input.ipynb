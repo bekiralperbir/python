{
 "cells": [
  {
   "cell_type": "code",
   "execution_count": 1,
   "id": "c85e3cda",
   "metadata": {},
   "outputs": [
    {
     "name": "stdout",
     "output_type": "stream",
     "text": [
      "Lütfen bir sayı giriniz : 5\n"
     ]
    },
    {
     "data": {
      "text/plain": [
       "'5'"
      ]
     },
     "execution_count": 1,
     "metadata": {},
     "output_type": "execute_result"
    }
   ],
   "source": [
    "#input fonksiyonu ile kullanıcıdan kolay bir şekilde girdi alınabilir.\n",
    "\n",
    "input('Lütfen bir sayı giriniz : ')"
   ]
  },
  {
   "cell_type": "code",
   "execution_count": 3,
   "id": "bac212de",
   "metadata": {},
   "outputs": [
    {
     "name": "stdout",
     "output_type": "stream",
     "text": [
      "Lütfen bir sayı giriniz: 35\n",
      "kullanıcının girdiği değer: 35\n"
     ]
    }
   ],
   "source": [
    "a = input('Lütfen bir sayı giriniz: ')\n",
    "print('kullanıcının girdiği değer:',a)"
   ]
  },
  {
   "cell_type": "code",
   "execution_count": 4,
   "id": "0f030cbb",
   "metadata": {},
   "outputs": [
    {
     "name": "stdout",
     "output_type": "stream",
     "text": [
      "lütfen bir sayı giriniz:5\n",
      "15\n"
     ]
    }
   ],
   "source": [
    "#eğer integer yapmak istiyorsak girilen değeri çünkü normalde string olarak tanımlıyor input fonksiyonu\n",
    "\n",
    "a = int(input('lütfen bir sayı giriniz:'))\n",
    "print(a * 3)"
   ]
  },
  {
   "cell_type": "code",
   "execution_count": 5,
   "id": "f1174f76",
   "metadata": {},
   "outputs": [
    {
     "name": "stdout",
     "output_type": "stream",
     "text": [
      "birinci sayı:5\n",
      "ikinci sayı:4\n",
      "üçüncü sayı:6\n",
      "bu üç sayının toplamı:  15\n"
     ]
    }
   ],
   "source": [
    "a = int(input('birinci sayı:'))\n",
    "b = int(input('ikinci sayı:'))\n",
    "c = int(input('üçüncü sayı:'))\n",
    "\n",
    "print('bu üç sayının toplamı: ',a+b+c)"
   ]
  },
  {
   "cell_type": "code",
   "execution_count": 7,
   "id": "dc728c27",
   "metadata": {},
   "outputs": [
    {
     "name": "stdout",
     "output_type": "stream",
     "text": [
      "a :54\n",
      "54\n"
     ]
    }
   ],
   "source": [
    "# ekstra bir örnek \n",
    "\n",
    "try:\n",
    "    a = a = int(input('a :'))\n",
    "    print(a)\n",
    "except ValueError:\n",
    "    print('Lütfen doğru bir input değeri giriniz')"
   ]
  },
  {
   "cell_type": "code",
   "execution_count": null,
   "id": "abf656ef",
   "metadata": {},
   "outputs": [],
   "source": []
  }
 ],
 "metadata": {
  "kernelspec": {
   "display_name": "Python 3 (ipykernel)",
   "language": "python",
   "name": "python3"
  },
  "language_info": {
   "codemirror_mode": {
    "name": "ipython",
    "version": 3
   },
   "file_extension": ".py",
   "mimetype": "text/x-python",
   "name": "python",
   "nbconvert_exporter": "python",
   "pygments_lexer": "ipython3",
   "version": "3.9.7"
  }
 },
 "nbformat": 4,
 "nbformat_minor": 5
}
