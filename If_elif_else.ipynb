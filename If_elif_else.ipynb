{
 "cells": [
  {
   "cell_type": "code",
   "execution_count": 1,
   "id": "bccc0501",
   "metadata": {},
   "outputs": [],
   "source": [
    "# önceki durumda sadece bir koşulu konuşabiliyorduk fakat if elif else durumunda ise bir çok koşul konuşulabilir.\n",
    "\n",
    "#opsiyonel olarak else koyulabilir öteki yandan hiç else de koymadan kodunuzu çalıştırabilirsiniz."
   ]
  },
  {
   "cell_type": "code",
   "execution_count": 3,
   "id": "4a5ee728",
   "metadata": {},
   "outputs": [
    {
     "name": "stdout",
     "output_type": "stream",
     "text": [
      "Lütfen bir işlem giriniz:2\n",
      "işlem 2 seçildi!\n"
     ]
    }
   ],
   "source": [
    "işlem = input('Lütfen bir işlem giriniz:')\n",
    "\n",
    "if işlem == '1':\n",
    "    print('işlem 1 seçildi!')\n",
    "elif işlem == '2':\n",
    "    print('işlem 2 seçildi!')\n",
    "elif işlem == '3':\n",
    "    print('işlem 3 seçildi!')\n",
    "elif işlem == '4':\n",
    "    print('işlem 4 seçildi!')\n",
    "else:\n",
    "    print('Geçersiz İşlem!')\n",
    "    "
   ]
  },
  {
   "cell_type": "code",
   "execution_count": 4,
   "id": "16c7341c",
   "metadata": {},
   "outputs": [
    {
     "ename": "SyntaxError",
     "evalue": "invalid syntax (Temp/ipykernel_4936/3532362910.py, line 1)",
     "output_type": "error",
     "traceback": [
      "\u001b[1;36m  File \u001b[1;32m\"C:\\Users\\bkral\\AppData\\Local\\Temp/ipykernel_4936/3532362910.py\"\u001b[1;36m, line \u001b[1;32m1\u001b[0m\n\u001b[1;33m    else:\u001b[0m\n\u001b[1;37m    ^\u001b[0m\n\u001b[1;31mSyntaxError\u001b[0m\u001b[1;31m:\u001b[0m invalid syntax\n"
     ]
    }
   ],
   "source": [
    "else:\n",
    "    print('geçersiz işlem!') #else bloğu tek başına kullanılamıyor"
   ]
  },
  {
   "cell_type": "code",
   "execution_count": 5,
   "id": "7583c769",
   "metadata": {},
   "outputs": [
    {
     "name": "stdout",
     "output_type": "stream",
     "text": [
      "Lütfen Notunuzu giriniz:75\n",
      "CB\n"
     ]
    }
   ],
   "source": [
    "# Not değerlendirme sistemi\n",
    "\n",
    "note = float(input('Lütfen Notunuzu giriniz:'))\n",
    "\n",
    "if (note >= 90):\n",
    "    print('AA')\n",
    "elif (note >= 85):\n",
    "    print('BA')\n",
    "elif (note >= 80):\n",
    "    print('BB')\n",
    "elif (note >= 75):\n",
    "    print('CB')\n",
    "elif (note >= 70):\n",
    "    print('CC')\n",
    "elif (note >= 65):\n",
    "    print('DC')\n",
    "elif (note >= 60):\n",
    "    print('DD')\n",
    "else:\n",
    "    print('Kaldınız!')\n",
    "    \n",
    "    \n"
   ]
  },
  {
   "cell_type": "code",
   "execution_count": null,
   "id": "d0d0cdc7",
   "metadata": {},
   "outputs": [],
   "source": []
  }
 ],
 "metadata": {
  "kernelspec": {
   "display_name": "Python 3 (ipykernel)",
   "language": "python",
   "name": "python3"
  },
  "language_info": {
   "codemirror_mode": {
    "name": "ipython",
    "version": 3
   },
   "file_extension": ".py",
   "mimetype": "text/x-python",
   "name": "python",
   "nbconvert_exporter": "python",
   "pygments_lexer": "ipython3",
   "version": "3.9.7"
  }
 },
 "nbformat": 4,
 "nbformat_minor": 5
}
