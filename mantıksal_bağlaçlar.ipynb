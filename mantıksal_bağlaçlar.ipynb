{
 "cells": [
  {
   "cell_type": "code",
   "execution_count": 1,
   "id": "f85a635f",
   "metadata": {},
   "outputs": [
    {
     "data": {
      "text/plain": [
       "True"
      ]
     },
     "execution_count": 1,
     "metadata": {},
     "output_type": "execute_result"
    }
   ],
   "source": [
    "# and için iki durumun da bütün karşılaştırma sonuçlarının True olmasına bakar.\n",
    "\n",
    "1 < 2 and 'Alper' == 'Alper'"
   ]
  },
  {
   "cell_type": "code",
   "execution_count": 2,
   "id": "12808fa2",
   "metadata": {},
   "outputs": [
    {
     "data": {
      "text/plain": [
       "False"
      ]
     },
     "execution_count": 2,
     "metadata": {},
     "output_type": "execute_result"
    }
   ],
   "source": [
    "1 > 2 and 'alper' == 'alper'"
   ]
  },
  {
   "cell_type": "code",
   "execution_count": 3,
   "id": "b0be07f9",
   "metadata": {},
   "outputs": [
    {
     "data": {
      "text/plain": [
       "False"
      ]
     },
     "execution_count": 3,
     "metadata": {},
     "output_type": "execute_result"
    }
   ],
   "source": [
    "1>2 and 'alper' == 'bekir'"
   ]
  },
  {
   "cell_type": "code",
   "execution_count": 4,
   "id": "21b5a1d3",
   "metadata": {},
   "outputs": [
    {
     "data": {
      "text/plain": [
       "True"
      ]
     },
     "execution_count": 4,
     "metadata": {},
     "output_type": "execute_result"
    }
   ],
   "source": [
    "1 < 2 and 'alper' == 'alper' and 3 < 4 and 'Bekir' == 'Bekir'"
   ]
  },
  {
   "cell_type": "code",
   "execution_count": 5,
   "id": "3f71c9fc",
   "metadata": {},
   "outputs": [
    {
     "data": {
      "text/plain": [
       "True"
      ]
     },
     "execution_count": 5,
     "metadata": {},
     "output_type": "execute_result"
    }
   ],
   "source": [
    "# or operatörünün True çıkması için herhangi bir kısmın True olması yeterlidir.\n",
    "\n",
    "1 < 2 or 'alper' == 'bekir'"
   ]
  },
  {
   "cell_type": "code",
   "execution_count": 6,
   "id": "eead27ea",
   "metadata": {},
   "outputs": [
    {
     "data": {
      "text/plain": [
       "True"
      ]
     },
     "execution_count": 6,
     "metadata": {},
     "output_type": "execute_result"
    }
   ],
   "source": [
    "'alper' == 'alper' or 1 > 3 or 45< 2 or 99< 100"
   ]
  },
  {
   "cell_type": "code",
   "execution_count": 7,
   "id": "6d3ad989",
   "metadata": {},
   "outputs": [
    {
     "data": {
      "text/plain": [
       "False"
      ]
     },
     "execution_count": 7,
     "metadata": {},
     "output_type": "execute_result"
    }
   ],
   "source": [
    "# not operatörü bir işlemin sonucu True ise False, False ise True yapıyor.\n",
    "\n",
    "not 2 == 2 "
   ]
  },
  {
   "cell_type": "code",
   "execution_count": null,
   "id": "585df4e9",
   "metadata": {},
   "outputs": [],
   "source": []
  }
 ],
 "metadata": {
  "kernelspec": {
   "display_name": "Python 3 (ipykernel)",
   "language": "python",
   "name": "python3"
  },
  "language_info": {
   "codemirror_mode": {
    "name": "ipython",
    "version": 3
   },
   "file_extension": ".py",
   "mimetype": "text/x-python",
   "name": "python",
   "nbconvert_exporter": "python",
   "pygments_lexer": "ipython3",
   "version": "3.9.7"
  }
 },
 "nbformat": 4,
 "nbformat_minor": 5
}
