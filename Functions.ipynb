{
 "cells": [
  {
   "cell_type": "code",
   "execution_count": 1,
   "id": "8050cfff",
   "metadata": {},
   "outputs": [
    {
     "data": {
      "text/plain": [
       "'\\n\\npythonda kullandığımız print() ya da type() gibi built-in fonksiyonlar var ama bizim yapabileceğimiz user-defined fonskiyonlar\\nda var burada nasıl yapacağımızı öğrenmeye çalışacağız.\\n\\n\\nFonksiyonlar:\\n\\ndef fonskiyon_adı(parametre1,parametre2...(opsiyonel))\\n    #Fonskiyon bloğu\\n    Yapılacak işlemler\\n    #dönüş değeri (opsiyonel)\\n\\n'"
      ]
     },
     "execution_count": 1,
     "metadata": {},
     "output_type": "execute_result"
    }
   ],
   "source": [
    "\"\"\"\n",
    "\n",
    "pythonda kullandığımız print() ya da type() gibi built-in fonksiyonlar var ama bizim yapabileceğimiz user-defined fonskiyonlar\n",
    "da var burada nasıl yapacağımızı öğrenmeye çalışacağız.\n",
    "\n",
    "\n",
    "Fonksiyonlar:\n",
    "\n",
    "def fonskiyon_adı(parametre1,parametre2...(opsiyonel))\n",
    "    #Fonskiyon bloğu\n",
    "    Yapılacak işlemler\n",
    "    #dönüş değeri (opsiyonel)\n",
    "\n",
    "\"\"\""
   ]
  },
  {
   "cell_type": "code",
   "execution_count": 2,
   "id": "ebe3d64e",
   "metadata": {},
   "outputs": [
    {
     "ename": "NameError",
     "evalue": "name 'selamla' is not defined",
     "output_type": "error",
     "traceback": [
      "\u001b[1;31m---------------------------------------------------------------------------\u001b[0m",
      "\u001b[1;31mNameError\u001b[0m                                 Traceback (most recent call last)",
      "\u001b[1;32m~\\AppData\\Local\\Temp/ipykernel_11648/3555920602.py\u001b[0m in \u001b[0;36m<module>\u001b[1;34m\u001b[0m\n\u001b[1;32m----> 1\u001b[1;33m \u001b[0mtype\u001b[0m\u001b[1;33m(\u001b[0m\u001b[0mselamla\u001b[0m\u001b[1;33m)\u001b[0m\u001b[1;33m\u001b[0m\u001b[1;33m\u001b[0m\u001b[0m\n\u001b[0m",
      "\u001b[1;31mNameError\u001b[0m: name 'selamla' is not defined"
     ]
    }
   ],
   "source": [
    "type(selamla)"
   ]
  },
  {
   "cell_type": "code",
   "execution_count": 3,
   "id": "63c3f293",
   "metadata": {},
   "outputs": [],
   "source": [
    "def selamla():\n",
    "    print(\"Merhaba...\")\n",
    "    print(\"Nasılsınız?\")\n",
    "    "
   ]
  },
  {
   "cell_type": "code",
   "execution_count": 4,
   "id": "b19825c7",
   "metadata": {},
   "outputs": [
    {
     "data": {
      "text/plain": [
       "function"
      ]
     },
     "execution_count": 4,
     "metadata": {},
     "output_type": "execute_result"
    }
   ],
   "source": [
    "type(selamla)"
   ]
  },
  {
   "cell_type": "code",
   "execution_count": 5,
   "id": "9d203c99",
   "metadata": {},
   "outputs": [
    {
     "name": "stdout",
     "output_type": "stream",
     "text": [
      "Merhaba...\n",
      "Nasılsınız?\n"
     ]
    }
   ],
   "source": [
    "selamla()"
   ]
  },
  {
   "cell_type": "code",
   "execution_count": 6,
   "id": "89a589d8",
   "metadata": {},
   "outputs": [
    {
     "ename": "TypeError",
     "evalue": "selamla() takes 0 positional arguments but 1 was given",
     "output_type": "error",
     "traceback": [
      "\u001b[1;31m---------------------------------------------------------------------------\u001b[0m",
      "\u001b[1;31mTypeError\u001b[0m                                 Traceback (most recent call last)",
      "\u001b[1;32m~\\AppData\\Local\\Temp/ipykernel_11648/3082461418.py\u001b[0m in \u001b[0;36m<module>\u001b[1;34m\u001b[0m\n\u001b[1;32m----> 1\u001b[1;33m \u001b[0mselamla\u001b[0m\u001b[1;33m(\u001b[0m\u001b[1;34m\"python\"\u001b[0m\u001b[1;33m)\u001b[0m\u001b[1;33m\u001b[0m\u001b[1;33m\u001b[0m\u001b[0m\n\u001b[0m",
      "\u001b[1;31mTypeError\u001b[0m: selamla() takes 0 positional arguments but 1 was given"
     ]
    }
   ],
   "source": [
    "selamla(\"python\")"
   ]
  },
  {
   "cell_type": "code",
   "execution_count": 7,
   "id": "b5d1b927",
   "metadata": {},
   "outputs": [
    {
     "name": "stdout",
     "output_type": "stream",
     "text": [
      "Merhaba...\n",
      "Nasılsınız?\n",
      "Merhaba...\n",
      "Nasılsınız?\n",
      "Merhaba...\n",
      "Nasılsınız?\n"
     ]
    }
   ],
   "source": [
    "selamla()\n",
    "selamla()\n",
    "selamla()"
   ]
  },
  {
   "cell_type": "code",
   "execution_count": 8,
   "id": "c56e83bb",
   "metadata": {},
   "outputs": [],
   "source": [
    "def selamla(isim):\n",
    "    print(\"Isminiz:\",isim)"
   ]
  },
  {
   "cell_type": "code",
   "execution_count": 10,
   "id": "268048fe",
   "metadata": {},
   "outputs": [
    {
     "name": "stdout",
     "output_type": "stream",
     "text": [
      "Isminiz: Alper\n"
     ]
    }
   ],
   "source": [
    "selamla(\"Alper\")"
   ]
  },
  {
   "cell_type": "code",
   "execution_count": 11,
   "id": "6d0d8b7d",
   "metadata": {},
   "outputs": [],
   "source": [
    "def toplama(a,b,c):\n",
    "    print(\"Toplamları\",a+b+c)"
   ]
  },
  {
   "cell_type": "code",
   "execution_count": 12,
   "id": "c03bfc83",
   "metadata": {},
   "outputs": [
    {
     "name": "stdout",
     "output_type": "stream",
     "text": [
      "Toplamları 12\n"
     ]
    }
   ],
   "source": [
    "toplama(3,4,5)"
   ]
  },
  {
   "cell_type": "code",
   "execution_count": 13,
   "id": "fde92c9b",
   "metadata": {},
   "outputs": [],
   "source": [
    "def faktöriyel(sayı):\n",
    "    faktöriyel = 1\n",
    "    if (sayı == 0 or sayı == 1):\n",
    "        print(\"Faktöriyel:\",faktöriyel)\n",
    "    else:\n",
    "        while (sayı>=1):\n",
    "            faktöriyel *= sayı\n",
    "            sayı -=1\n",
    "            \n",
    "        print(\"Faktöriyel:\",faktöriyel)\n",
    "        "
   ]
  },
  {
   "cell_type": "code",
   "execution_count": 14,
   "id": "6d7b2dea",
   "metadata": {},
   "outputs": [
    {
     "name": "stdout",
     "output_type": "stream",
     "text": [
      "Faktöriyel: 1\n"
     ]
    }
   ],
   "source": [
    "faktöriyel(1)"
   ]
  },
  {
   "cell_type": "code",
   "execution_count": 15,
   "id": "84d28d75",
   "metadata": {},
   "outputs": [
    {
     "name": "stdout",
     "output_type": "stream",
     "text": [
      "Faktöriyel: 120\n"
     ]
    }
   ],
   "source": [
    "faktöriyel(5)"
   ]
  },
  {
   "cell_type": "code",
   "execution_count": null,
   "id": "b7bfb4ea",
   "metadata": {},
   "outputs": [],
   "source": []
  }
 ],
 "metadata": {
  "kernelspec": {
   "display_name": "Python 3 (ipykernel)",
   "language": "python",
   "name": "python3"
  },
  "language_info": {
   "codemirror_mode": {
    "name": "ipython",
    "version": 3
   },
   "file_extension": ".py",
   "mimetype": "text/x-python",
   "name": "python",
   "nbconvert_exporter": "python",
   "pygments_lexer": "ipython3",
   "version": "3.9.7"
  }
 },
 "nbformat": 4,
 "nbformat_minor": 5
}
