{
 "cells": [
  {
   "cell_type": "code",
   "execution_count": 1,
   "id": "31131458",
   "metadata": {
    "collapsed": true
   },
   "outputs": [
    {
     "data": {
      "text/plain": [
       "'\\nmetodlar belirli bir obje üzerinde belli işlemleri gerçekleştiren objelere özgü fonksiyonlardır ve objelerin üzerinde metodlar \\nşu şekilde kullanılır:\\n\\nobje.herhangi_bir_method(değerler(opsiyonel))\\n\\n\\nörneğin bir liste objesi oluşturduğumuz zaman bu objenin üzerinde belirli methodları uygulayabiliriz\\n\\n\\n'"
      ]
     },
     "execution_count": 1,
     "metadata": {},
     "output_type": "execute_result"
    }
   ],
   "source": [
    "\"\"\"\n",
    "metodlar belirli bir obje üzerinde belli işlemleri gerçekleştiren objelere özgü fonksiyonlardır ve objelerin üzerinde metodlar \n",
    "şu şekilde kullanılır:\n",
    "\n",
    "obje.herhangi_bir_method(değerler(opsiyonel))\n",
    "\n",
    "\n",
    "örneğin bir liste objesi oluşturduğumuz zaman bu objenin üzerinde belirli methodları uygulayabiliriz\n",
    "\n",
    "\n",
    "\"\"\""
   ]
  },
  {
   "cell_type": "code",
   "execution_count": 2,
   "id": "f106528d",
   "metadata": {},
   "outputs": [
    {
     "data": {
      "text/plain": [
       "[1, 'Alper', 2, 3, 4, 5, 6]"
      ]
     },
     "execution_count": 2,
     "metadata": {},
     "output_type": "execute_result"
    }
   ],
   "source": [
    "liste = [1,2,3,4,5,6]\n",
    "liste.insert(1,\"Alper\")\n",
    "liste"
   ]
  },
  {
   "cell_type": "code",
   "execution_count": 3,
   "id": "b22e9e56",
   "metadata": {},
   "outputs": [
    {
     "data": {
      "text/plain": [
       "'\\nliste.(tab tuşuna basarak fonskiyonları görüntüleyebiliriz)\\n'"
      ]
     },
     "execution_count": 3,
     "metadata": {},
     "output_type": "execute_result"
    }
   ],
   "source": [
    "\"\"\"\n",
    "liste.(tab tuşuna basarak fonskiyonları görüntüleyebiliriz)\n",
    "\"\"\"\n"
   ]
  },
  {
   "cell_type": "code",
   "execution_count": 4,
   "id": "2eb2a4e4",
   "metadata": {},
   "outputs": [
    {
     "data": {
      "text/plain": [
       "6"
      ]
     },
     "execution_count": 4,
     "metadata": {},
     "output_type": "execute_result"
    }
   ],
   "source": [
    "liste.pop() #pop listeden eleman çıkarır.İçerisine eleman girmediğimiz için son elemanı çıkardı"
   ]
  },
  {
   "cell_type": "code",
   "execution_count": 5,
   "id": "f048085a",
   "metadata": {},
   "outputs": [
    {
     "data": {
      "text/plain": [
       "[1, 'Alper', 2, 3, 4, 5]"
      ]
     },
     "execution_count": 5,
     "metadata": {},
     "output_type": "execute_result"
    }
   ],
   "source": [
    "liste"
   ]
  },
  {
   "cell_type": "code",
   "execution_count": 6,
   "id": "14481e74",
   "metadata": {},
   "outputs": [
    {
     "name": "stdout",
     "output_type": "stream",
     "text": [
      "Help on built-in function append:\n",
      "\n",
      "append(object, /) method of builtins.list instance\n",
      "    Append object to the end of the list.\n",
      "\n"
     ]
    }
   ],
   "source": [
    "#eğer unutursak  help(liste.fonskiyonun_adı) diyerek yardım istenebilir\n",
    "help(liste.append)"
   ]
  },
  {
   "cell_type": "code",
   "execution_count": null,
   "id": "e0d7bd6d",
   "metadata": {},
   "outputs": [],
   "source": []
  }
 ],
 "metadata": {
  "kernelspec": {
   "display_name": "Python 3 (ipykernel)",
   "language": "python",
   "name": "python3"
  },
  "language_info": {
   "codemirror_mode": {
    "name": "ipython",
    "version": 3
   },
   "file_extension": ".py",
   "mimetype": "text/x-python",
   "name": "python",
   "nbconvert_exporter": "python",
   "pygments_lexer": "ipython3",
   "version": "3.9.7"
  }
 },
 "nbformat": 4,
 "nbformat_minor": 5
}
